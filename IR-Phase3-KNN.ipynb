{
 "cells": [
  {
   "cell_type": "code",
   "execution_count": 12,
   "metadata": {},
   "outputs": [],
   "source": [
    "import pickle"
   ]
  },
  {
   "cell_type": "code",
   "execution_count": 13,
   "metadata": {},
   "outputs": [],
   "source": [
    "training_data_7k = []\n",
    "with open('training_data_7k.pkl' ,'rb')as f :\n",
    "    training_data_7k = pickle.load(f)"
   ]
  },
  {
   "cell_type": "code",
   "execution_count": 15,
   "metadata": {},
   "outputs": [],
   "source": [
    "# training_data_7k[0]"
   ]
  },
  {
   "cell_type": "code",
   "execution_count": 16,
   "metadata": {},
   "outputs": [],
   "source": [
    "import multiprocessing\n",
    "from gensim.models import Word2Vec\n",
    "import time\n",
    "import numpy as np\n",
    "from numpy.linalg import norm"
   ]
  },
  {
   "cell_type": "code",
   "execution_count": 17,
   "metadata": {},
   "outputs": [
    {
     "name": "stdout",
     "output_type": "stream",
     "text": [
      "Number of cores in this device 8\n"
     ]
    }
   ],
   "source": [
    "cores = multiprocessing.cpu_count()\n",
    "print('Number of cores in this device {}'.format(cores))"
   ]
  },
  {
   "cell_type": "code",
   "execution_count": 18,
   "metadata": {},
   "outputs": [
    {
     "name": "stdout",
     "output_type": "stream",
     "text": [
      "Number of all docs 7562\n",
      "Number of all Tokens 1467075\n"
     ]
    }
   ],
   "source": [
    "docs_num = len(training_data_7k)\n",
    "tokens_num = sum([len(x) for x in training_data_7k])\n",
    "print('Number of all docs {}'.format(docs_num))\n",
    "print('Number of all Tokens {}'.format(tokens_num))"
   ]
  },
  {
   "cell_type": "code",
   "execution_count": 19,
   "metadata": {},
   "outputs": [
    {
     "name": "stdout",
     "output_type": "stream",
     "text": [
      "Vocab size :  40507\n",
      "Wall time: 1.72 s\n"
     ]
    }
   ],
   "source": [
    "%%time\n",
    "w2v_model = Word2Vec(min_count=1 , window=15 , vector_size=300 , alpha=0.03 , workers=cores-1)\n",
    "w2v_model.build_vocab(training_data_7k)\n",
    "w2v_model_vocab_size = len(w2v_model.wv)\n",
    "print('Vocab size : ' , w2v_model_vocab_size)"
   ]
  },
  {
   "cell_type": "code",
   "execution_count": 20,
   "metadata": {},
   "outputs": [
    {
     "name": "stdout",
     "output_type": "stream",
     "text": [
      "50.472068071365356 s\n"
     ]
    }
   ],
   "source": [
    "start = time.time()\n",
    "w2v_model.train(training_data_7k , total_examples=w2v_model.corpus_count , epochs= 30)\n",
    "end = time.time()\n",
    "print(\"{} s\". format(end-start))"
   ]
  },
  {
   "cell_type": "code",
   "execution_count": null,
   "metadata": {},
   "outputs": [],
   "source": [
    "docs_tfidf_11k = []\n",
    "with open('tfidf_50k.pkl' ,'rb')as f :\n",
    "    docs_tfidf_11k = pickle.load(f)"
   ]
  },
  {
   "cell_type": "code",
   "execution_count": 21,
   "metadata": {},
   "outputs": [],
   "source": [
    "w2v_model.save(\"w2v_7k_300d.model\")"
   ]
  },
  {
   "cell_type": "code",
   "execution_count": 22,
   "metadata": {},
   "outputs": [],
   "source": [
    "docs_tfidf_7k = []\n",
    "with open('tfidf_7k.pkl' ,'rb')as f :\n",
    "    docs_tfidf_7k = pickle.load(f)"
   ]
  },
  {
   "cell_type": "code",
   "execution_count": 25,
   "metadata": {},
   "outputs": [],
   "source": [
    "# docs_tfidf_7k[0]"
   ]
  },
  {
   "cell_type": "code",
   "execution_count": 26,
   "metadata": {},
   "outputs": [],
   "source": [
    "def make_docs_embeding(docs_tfidf):\n",
    "    docs_embedding = []\n",
    "    for doc in docs_tfidf:\n",
    "        doc_vector = np.zeros(300)\n",
    "        weight_sum = 0\n",
    "        if(len(doc.items())!=0):\n",
    "            \n",
    "       \n",
    "            for token , weight in doc.items() :\n",
    "\n",
    "\n",
    "                        doc_vector += w2v_model.wv[token] * weight\n",
    "                        weight_sum += weight\n",
    "\n",
    "            docs_embedding.append(doc_vector/weight_sum)\n",
    "        \n",
    "        \n",
    "    \n",
    " \n",
    "        \n",
    "    return docs_embedding"
   ]
  },
  {
   "cell_type": "code",
   "execution_count": 31,
   "metadata": {},
   "outputs": [],
   "source": [
    "def similarity(doc1 , doc2) :\n",
    "    similarity_score = np.dot(doc1 , doc2) / ((norm(doc1)) *(norm(doc2)) )\n",
    "    return (similarity_score +1)/2"
   ]
  },
  {
   "cell_type": "code",
   "execution_count": 32,
   "metadata": {},
   "outputs": [
    {
     "data": {
      "text/plain": [
       "0.849415371609672"
      ]
     },
     "execution_count": 32,
     "metadata": {},
     "output_type": "execute_result"
    }
   ],
   "source": [
    "s = similarity(docs_embedding_7k[11] , docs_embedding_7k[10])\n",
    "s"
   ]
  },
  {
   "cell_type": "markdown",
   "metadata": {},
   "source": [
    "# KNN implementation"
   ]
  },
  {
   "cell_type": "code",
   "execution_count": 36,
   "metadata": {},
   "outputs": [
    {
     "data": {
      "text/plain": [
       "str"
      ]
     },
     "execution_count": 36,
     "metadata": {},
     "output_type": "execute_result"
    }
   ],
   "source": [
    "import xlrd\n",
    "data_set = '50k_combined.xlsm'\n",
    "data_reader = xlrd.open_workbook(data_set)\n",
    "content = data_reader.sheet_by_index(0)"
   ]
  },
  {
   "cell_type": "code",
   "execution_count": 43,
   "metadata": {},
   "outputs": [],
   "source": [
    "def KNN (k , train_embedding , test_embedding) :\n",
    "    #sport , economic , political , culture , health\n",
    "    classes = [[],[],[],[],[]]\n",
    "    \n",
    "    for index ,test_doc in enumerate(test_embedding) :\n",
    "        distances = {}\n",
    "        for train_doc in train_embedding :\n",
    "            dist = numpy.linalg.norm(test_doc-train_doc)\n",
    "            distances[index] = dist\n",
    "        \n",
    "        distances = dict(sorted(distances.items(), key=lambda item: item[1], reverse=True))\n",
    "        k_first = dict(list(distances.items())[0: k])\n",
    "        \n",
    "        categories_repeat = {}\n",
    "        \n",
    "        for doc in k_first :\n",
    "            cat = data_reader.sheet_by_index(0).cell(int(d), 2).value\n",
    "            if(cat not in categories_repeat) :\n",
    "                categories_repeat[cat] = 1\n",
    "            else :\n",
    "                categories_repeat[cat] += 1\n",
    "        \n",
    "        categories_repeat = dict(sorted(categories_repeat.items(), key=lambda item: item[1], reverse=True))\n",
    "        best_category= list(categories_repeat)[0]\n",
    "        if(best_category == 'sport') :\n",
    "            classes[0].append((test_doc , index))\n",
    "        elif(best_category == 'economy') :\n",
    "            classes[1].append((test_doc , index))\n",
    "        elif(best_category == 'politics') :\n",
    "            classes[2].append((test_doc , index))\n",
    "        elif(best_category == 'culture') :\n",
    "            classes[3].append((test_doc , index))\n",
    "        elif(best_category == 'health') :  \n",
    "            classes[4].append((test_doc , index))\n",
    "\n",
    "\n",
    "                \n",
    "    classificitaion_7k={'classes' : classes}\n",
    "    with open('classification_7k.pkl' , 'wb') as f :\n",
    "        pickle.dump(classificitaion_7k,f)\n",
    "    \n",
    "        "
   ]
  },
  {
   "cell_type": "code",
   "execution_count": 38,
   "metadata": {},
   "outputs": [],
   "source": [
    "with open('docs_embedding_50k.pkl' ,'rb')as f :\n",
    "    docs_embedding_50k = pickle.load(f)"
   ]
  },
  {
   "cell_type": "code",
   "execution_count": 41,
   "metadata": {},
   "outputs": [],
   "source": [
    "import hazm\n",
    "hazm_normalaizer = hazm.Normalizer()\n",
    "lemmatizer = hazm.Lemmatizer()"
   ]
  },
  {
   "cell_type": "code",
   "execution_count": 42,
   "metadata": {},
   "outputs": [],
   "source": [
    "from collections import Counter\n",
    "import math\n",
    "def query_embeding(query ,docs_num) :\n",
    "       \n",
    "        normal_query = hazm_normalaizer.normalize(query)\n",
    "        tokens = hazm.word_tokenize(normal_query)\n",
    "        tokens_stems = []\n",
    "        for t in tokens :\n",
    "            stem_token = lemmatizer.lemmatize(t)\n",
    "            if(\"#\" in stem_token):\n",
    "                mazi , mozare = stem_token.split(\"#\")\n",
    "                tokens_stems.append(mazi)\n",
    "                tokens_stems.append(mozare)\n",
    "            else :\n",
    "                tokens_stems.append(stem_token)\n",
    "            \n",
    "        token_tfidf = {}\n",
    "\n",
    "        \n",
    "        for term, count in Counter(tokens_stems).items():\n",
    "            tf = (1 + math.log10(count))\n",
    "            idf = math.log10(docs_num/1)\n",
    "            tfidf = tf * idf\n",
    "            token_tfidf [term] = tfidf\n",
    "        \n",
    "        query_vector = np.zeros(300)\n",
    "        weight_sum = 0\n",
    "        for token , weight in token_tfidf.items() :\n",
    "            try:\n",
    "            \n",
    "                query_vector += w2v_model.wv[token] * weight\n",
    "                \n",
    "            except KeyError:\n",
    "                continue\n",
    "            weight_sum += weight\n",
    "        if weight_sum == 0 :\n",
    "            return query_vector\n",
    " \n",
    "     \n",
    "        return query_vector/weight_sum"
   ]
  },
  {
   "cell_type": "code",
   "execution_count": null,
   "metadata": {},
   "outputs": [],
   "source": [
    "def answer_query(query , cat):\n",
    "     with open('classification_7k.pkl' ,'rb')as f :\n",
    "        classification_7k = pickle.load(f)\n",
    "        f.close()\n",
    "    if(cat == 'sport') :\n",
    "        index_search = 0\n",
    "    elif(cat == 'economy') :\n",
    "        index_search = 1\n",
    "    elif(cat == 'politics') :\n",
    "        index_search = 2\n",
    "    \n",
    "    elif(cat == 'culture') : \n",
    "        index_search = 3\n",
    "    elif(cat == 'health') : \n",
    "        index_search = 4\n",
    "    \n",
    "    "
   ]
  }
 ],
 "metadata": {
  "kernelspec": {
   "display_name": "Python 3",
   "language": "python",
   "name": "python3"
  },
  "language_info": {
   "codemirror_mode": {
    "name": "ipython",
    "version": 3
   },
   "file_extension": ".py",
   "mimetype": "text/x-python",
   "name": "python",
   "nbconvert_exporter": "python",
   "pygments_lexer": "ipython3",
   "version": "3.7.4"
  }
 },
 "nbformat": 4,
 "nbformat_minor": 2
}
